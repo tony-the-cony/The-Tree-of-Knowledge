{
 "cells": [
  {
   "cell_type": "code",
   "execution_count": null,
   "id": "f387799e",
   "metadata": {},
   "outputs": [],
   "source": [
    "import argparse\n",
    "import distutils\n",
    "import os\n",
    "\n",
    "from wd_plus_srl.coref_allen import evaluate_coref\n",
    "from wd_plus_srl.data.data_loader import IDataLoader\n",
    "from wd_plus_srl.data.io import create_if_not_exist\n",
    "from wd_plus_srl.wec_model.cluster import run_clustering, print_results, clean_and_save\n",
    "from wd_plus_srl.wec_model.generate_wec_predictions import generate_pairs_predictions\n",
    "\n",
    "\n",
    "parser = argparse.ArgumentParser()\n",
    "parser.add_argument('--input_file', type=str, help='corpus root', required=True)\n",
    "parser.add_argument('--output_file', type=str, help='output file', required=True)\n",
    "parser.add_argument('--loader', type=str, help='data loader (one of ecb/duc)', required=True)\n",
    "parser.add_argument('--model_file', type=str, help='wec model file', required=True)\n",
    "parser.add_argument('--cuda', type=str, help='wec model file', required=True)\n",
    "\n",
    "args = parser.parse_args()\n",
    "create_if_not_exist(os.path.dirname(args.output_file))\n",
    "\n",
    "dataloader = IDataLoader.get_dataloader(args.loader)\n",
    "print(\"Running within document coreference..\")\n",
    "coref_result_ments, documents = evaluate_coref(args.input_file, dataloader)\n"
   ]
  },
  {
   "cell_type": "code",
   "execution_count": null,
   "id": "52782f1e",
   "metadata": {},
   "outputs": [],
   "source": [
    "predictions, ments_data = generate_pairs_predictions(coref_result_ments, documents, args.model_file, _use_cuda)\n",
    "\n",
    "clean_and_save(all_mentions, args.output_file)"
   ]
  },
  {
   "cell_type": "code",
   "execution_count": null,
   "id": "89330213",
   "metadata": {},
   "outputs": [],
   "source": [
    "all_mentions = run_clustering(predictions, ments_data)"
   ]
  },
  {
   "cell_type": "code",
   "execution_count": null,
   "id": "e88f1f5f",
   "metadata": {},
   "outputs": [],
   "source": [
    "all_mentions"
   ]
  }
 ],
 "metadata": {
  "kernelspec": {
   "display_name": "Python 3 (ipykernel)",
   "language": "python",
   "name": "python3"
  },
  "language_info": {
   "codemirror_mode": {
    "name": "ipython",
    "version": 3
   },
   "file_extension": ".py",
   "mimetype": "text/x-python",
   "name": "python",
   "nbconvert_exporter": "python",
   "pygments_lexer": "ipython3",
   "version": "3.8.18"
  }
 },
 "nbformat": 4,
 "nbformat_minor": 5
}
