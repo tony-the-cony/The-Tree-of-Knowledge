{
 "cells": [
  {
   "cell_type": "code",
   "execution_count": null,
   "id": "f979a864",
   "metadata": {},
   "outputs": [],
   "source": [
    "import time\n",
    "import spacy\n",
    "import torch\n",
    "from typing import Union, List\n",
    "from fastcoref import spacy_component\n",
    "from transformers import AutoTokenizer, AutoModelForSeq2SeqLM"
   ]
  },
  {
   "cell_type": "code",
   "execution_count": null,
   "id": "ba5f2f70",
   "metadata": {},
   "outputs": [],
   "source": [
    "class SpacyModel:\n",
    "    def __init__(self):\n",
    "        self.model = spacy.load(\"en_coreference_web_trf\")\n",
    "\n",
    "    def predict(self, text: str):\n",
    "        doc = self.model(text)\n",
    "\n",
    "        offset = 0\n",
    "        reindex = []\n",
    "        for chain in doc.spans:\n",
    "            for idx, span in enumerate(doc.spans[chain]):\n",
    "                if idx > 0:\n",
    "                    reindex.append([span.start_char, span.end_char, doc.spans[chain][0].text])\n",
    "\n",
    "        for span in sorted(reindex, key=lambda x:x[0]):\n",
    "            text = text[0:span[0] + offset] + span[2] + text[span[1] + offset:]\n",
    "            offset += len(span[2]) - (span[1] - span[0])\n",
    "        \n",
    "        return text\n",
    "\n",
    "    def __call__(self, text: str):\n",
    "        return self.predict(text)\n",
    "    \n"
   ]
  },
  {
   "cell_type": "code",
   "execution_count": null,
   "id": "a4d89467",
   "metadata": {},
   "outputs": [],
   "source": [
    "class FastCoref:\n",
    "    def __init__(self):\n",
    "        self.model = spacy.load(\"en_core_web_sm\", exclude=[\"parser\", \"lemmatizer\", \"ner\", \"textcat\"])\n",
    "        self.model.add_pipe(\"fastcoref\")\n",
    "\n",
    "    def predict(self, text: str):\n",
    "        doc = self.model(text, component_cfg={\"fastcoref\": {'resolve_text': True}})\n",
    "        return doc._.resolved_text\n",
    "\n",
    "    def __call__(self, text: str):\n",
    "        return self.predict(text)\n",
    "    \n"
   ]
  },
  {
   "cell_type": "code",
   "execution_count": null,
   "id": "95c7afac",
   "metadata": {},
   "outputs": [],
   "source": [
    "class HFModel:\n",
    "    def __init__(self, model_name: str):\n",
    "        try:\n",
    "            self.model = AutoModelForSeq2SeqLM.from_pretrained(model_name)\n",
    "            self.tokenizer = AutoTokenizer.from_pretrained(model_name)\n",
    "        except:\n",
    "            raise ValueError(\"Provide a valid public Seq2SeqLM model name from HuggingFace\")\n",
    "        self.device = \"cuda\" if torch.cuda.is_available() else \"cpu\"\n",
    "        self.model = self.model.to(self.device)\n",
    "\n",
    "    def __validate_prompt(self, prompts: List[str]):\n",
    "        for prompt in prompts:\n",
    "            try:\n",
    "                prompt.split('User: ')[1].split('AI: ')[0]\n",
    "                prompt.split('AI: ')[1].split('User: ')[0]\n",
    "                prompt.split('User: ')[2]\n",
    "            except:\n",
    "                print(prompt)\n",
    "                raise ValueError(\"Prompt must be of the form 'User: <user ques> AI: <AI response> User: <user ques>'\")\n",
    "    \n",
    "    def predict(self, prompts: Union[str, List[str]], temperature: float = 0.7, max_length: int = 512, num_beams: int = 5) -> List[str]:\n",
    "        if type(prompts) == str: prompts = [prompts]\n",
    "        self.__validate_prompt(prompts)\n",
    "        start = time.time()\n",
    "        encoded_prompt = self.tokenizer(prompts, return_tensors=\"pt\", padding=True, truncation=True, max_length=512).to(self.device)\n",
    "        with torch.no_grad():\n",
    "            output = self.model.generate(\n",
    "                **encoded_prompt, \n",
    "                max_length=max_length, \n",
    "                num_beams=num_beams,\n",
    "                temperature=temperature\n",
    "            )\n",
    "        decode = self.tokenizer.batch_decode(output, skip_special_tokens=True)\n",
    "        end = time.time()\n",
    "        print(f\"Time taken: {end - start} for {len(prompts)} prompts\")\n",
    "        return decode\n",
    "    \n",
    "    def __call__(self, *args, **kwargs):\n",
    "        return self.predict(*args, **kwargs)"
   ]
  }
 ],
 "metadata": {
  "kernelspec": {
   "display_name": "Python 3 (ipykernel)",
   "language": "python",
   "name": "python3"
  },
  "language_info": {
   "codemirror_mode": {
    "name": "ipython",
    "version": 3
   },
   "file_extension": ".py",
   "mimetype": "text/x-python",
   "name": "python",
   "nbconvert_exporter": "python",
   "pygments_lexer": "ipython3",
   "version": "3.8.18"
  }
 },
 "nbformat": 4,
 "nbformat_minor": 5
}
